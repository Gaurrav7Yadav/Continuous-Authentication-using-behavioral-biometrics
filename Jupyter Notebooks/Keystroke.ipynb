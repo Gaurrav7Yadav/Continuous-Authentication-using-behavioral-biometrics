{
 "cells": [
  {
   "cell_type": "code",
   "execution_count": 2,
   "metadata": {},
   "outputs": [],
   "source": [
    "import pandas as pd\n",
    "import numpy as np\n",
    "import matplotlib.pyplot as plt\n",
    "import seaborn as sns\n",
    "%matplotlib inline\n",
    "from matplotlib.colors import ListedColormap\n",
    "from sklearn.model_selection import train_test_split\n",
    "from sklearn import metrics\n",
    "from sklearn.metrics import classification_report,confusion_matrix\n",
    "from sklearn.neighbors import KNeighborsClassifier\n",
    "\n",
    "# libraries for computation\n",
    "import pandas as pd\n",
    "import numpy as np\n",
    "\n",
    "#library for train test split\n",
    "from sklearn.model_selection import train_test_split,cross_val_score,KFold\n",
    "\n",
    "#library for preprocessing\n",
    "from sklearn.preprocessing import StandardScaler\n",
    "\n",
    "#Library for feature selection techniques]\n",
    "from sklearn.feature_selection import RFECV\n",
    "\n",
    "#libraries for various ML models \n",
    "from sklearn.neighbors import KNeighborsClassifier\n",
    "#ensemble models\n",
    "from sklearn.ensemble import RandomForestClassifier\n",
    "from sklearn.ensemble import ExtraTreesClassifier\n",
    "\n",
    "\n",
    "\n",
    "#libraries for model performance evaluation\n",
    "from sklearn import metrics\n",
    "from sklearn.metrics import classification_report,confusion_matrix,accuracy_score,f1_score\n",
    "\n",
    "#libraries for visualization\n",
    "import matplotlib.pyplot as plt\n",
    "import seaborn as sns\n",
    "%matplotlib inline\n",
    "from matplotlib.colors import ListedColormap\n",
    "\n",
    "import warnings\n",
    "warnings.filterwarnings('ignore')"
   ]
  },
  {
   "cell_type": "code",
   "execution_count": 3,
   "metadata": {},
   "outputs": [],
   "source": [
    "def plotConfusion(cm):\n",
    "    sns.set_style('white')\n",
    "    plt.clf()\n",
    "    plt.imshow(cm, interpolation='nearest', cmap=plt.cm.Pastel1)\n",
    "    classNames = ['Genuine','Imposter']\n",
    "    plt.title('Confusion Matrix',fontsize = 15)\n",
    "    plt.ylabel('True label',fontsize=15)\n",
    "    plt.xlabel('Predicted label',fontsize=15)\n",
    "    tick_marks = np.arange(len(classNames))\n",
    "    plt.xticks(tick_marks, classNames,fontsize=12)\n",
    "    plt.yticks(tick_marks, classNames,fontsize=12)\n",
    "    s = [['TP','FN'], ['FP', 'TN']]\n",
    "    for i in range(2):\n",
    "        for j in range(2):\n",
    "            plt.text(j,i, str(s[i][j])+\" = \"+str(cm[i][j]))\n",
    "    plt.show()"
   ]
  },
  {
   "cell_type": "code",
   "execution_count": 6,
   "metadata": {},
   "outputs": [
    {
     "data": {
      "text/html": [
       "<div>\n",
       "<style scoped>\n",
       "    .dataframe tbody tr th:only-of-type {\n",
       "        vertical-align: middle;\n",
       "    }\n",
       "\n",
       "    .dataframe tbody tr th {\n",
       "        vertical-align: top;\n",
       "    }\n",
       "\n",
       "    .dataframe thead th {\n",
       "        text-align: right;\n",
       "    }\n",
       "</style>\n",
       "<table border=\"1\" class=\"dataframe\">\n",
       "  <thead>\n",
       "    <tr style=\"text-align: right;\">\n",
       "      <th></th>\n",
       "      <th>User</th>\n",
       "      <th>H.period</th>\n",
       "      <th>DD.period.t</th>\n",
       "      <th>UD.period.t</th>\n",
       "      <th>H.t</th>\n",
       "      <th>DD.t.i</th>\n",
       "      <th>UD.t.i</th>\n",
       "      <th>H.i</th>\n",
       "      <th>DD.i.e</th>\n",
       "      <th>UD.i.e</th>\n",
       "      <th>...</th>\n",
       "      <th>DD.a.n</th>\n",
       "      <th>UD.a.n</th>\n",
       "      <th>H.n</th>\n",
       "      <th>DD.n.l</th>\n",
       "      <th>UD.n.l</th>\n",
       "      <th>H.l</th>\n",
       "      <th>DD.l.Return</th>\n",
       "      <th>UD.l.Return</th>\n",
       "      <th>H.Return</th>\n",
       "      <th>Target</th>\n",
       "    </tr>\n",
       "  </thead>\n",
       "  <tbody>\n",
       "    <tr>\n",
       "      <th>0</th>\n",
       "      <td>Nikhil</td>\n",
       "      <td>0.119</td>\n",
       "      <td>0.272</td>\n",
       "      <td>0.153</td>\n",
       "      <td>0.103</td>\n",
       "      <td>0.208</td>\n",
       "      <td>0.105</td>\n",
       "      <td>0.103</td>\n",
       "      <td>0.288</td>\n",
       "      <td>0.185</td>\n",
       "      <td>...</td>\n",
       "      <td>0.328</td>\n",
       "      <td>0.225</td>\n",
       "      <td>0.135</td>\n",
       "      <td>0.264</td>\n",
       "      <td>0.129</td>\n",
       "      <td>0.111</td>\n",
       "      <td>0.311</td>\n",
       "      <td>0.200</td>\n",
       "      <td>0.112</td>\n",
       "      <td>Genuine</td>\n",
       "    </tr>\n",
       "    <tr>\n",
       "      <th>1</th>\n",
       "      <td>Nikhil</td>\n",
       "      <td>0.119</td>\n",
       "      <td>0.272</td>\n",
       "      <td>0.153</td>\n",
       "      <td>0.103</td>\n",
       "      <td>0.216</td>\n",
       "      <td>0.113</td>\n",
       "      <td>0.103</td>\n",
       "      <td>0.287</td>\n",
       "      <td>0.184</td>\n",
       "      <td>...</td>\n",
       "      <td>0.312</td>\n",
       "      <td>0.209</td>\n",
       "      <td>0.151</td>\n",
       "      <td>0.272</td>\n",
       "      <td>0.121</td>\n",
       "      <td>0.110</td>\n",
       "      <td>0.304</td>\n",
       "      <td>0.194</td>\n",
       "      <td>0.151</td>\n",
       "      <td>Genuine</td>\n",
       "    </tr>\n",
       "    <tr>\n",
       "      <th>2</th>\n",
       "      <td>Nikhil</td>\n",
       "      <td>0.127</td>\n",
       "      <td>0.352</td>\n",
       "      <td>0.225</td>\n",
       "      <td>0.143</td>\n",
       "      <td>0.240</td>\n",
       "      <td>0.097</td>\n",
       "      <td>0.143</td>\n",
       "      <td>0.344</td>\n",
       "      <td>0.201</td>\n",
       "      <td>...</td>\n",
       "      <td>0.297</td>\n",
       "      <td>0.154</td>\n",
       "      <td>0.150</td>\n",
       "      <td>0.263</td>\n",
       "      <td>0.113</td>\n",
       "      <td>0.127</td>\n",
       "      <td>0.304</td>\n",
       "      <td>0.177</td>\n",
       "      <td>0.127</td>\n",
       "      <td>Genuine</td>\n",
       "    </tr>\n",
       "    <tr>\n",
       "      <th>3</th>\n",
       "      <td>Nikhil</td>\n",
       "      <td>0.122</td>\n",
       "      <td>0.315</td>\n",
       "      <td>0.193</td>\n",
       "      <td>0.127</td>\n",
       "      <td>0.200</td>\n",
       "      <td>0.073</td>\n",
       "      <td>0.111</td>\n",
       "      <td>0.400</td>\n",
       "      <td>0.289</td>\n",
       "      <td>...</td>\n",
       "      <td>0.200</td>\n",
       "      <td>0.089</td>\n",
       "      <td>0.143</td>\n",
       "      <td>0.240</td>\n",
       "      <td>0.097</td>\n",
       "      <td>0.159</td>\n",
       "      <td>0.176</td>\n",
       "      <td>0.017</td>\n",
       "      <td>0.087</td>\n",
       "      <td>Genuine</td>\n",
       "    </tr>\n",
       "    <tr>\n",
       "      <th>4</th>\n",
       "      <td>Nikhil</td>\n",
       "      <td>0.143</td>\n",
       "      <td>0.232</td>\n",
       "      <td>0.089</td>\n",
       "      <td>0.119</td>\n",
       "      <td>0.208</td>\n",
       "      <td>0.089</td>\n",
       "      <td>0.127</td>\n",
       "      <td>0.264</td>\n",
       "      <td>0.137</td>\n",
       "      <td>...</td>\n",
       "      <td>0.184</td>\n",
       "      <td>0.041</td>\n",
       "      <td>0.151</td>\n",
       "      <td>0.224</td>\n",
       "      <td>0.073</td>\n",
       "      <td>0.206</td>\n",
       "      <td>0.192</td>\n",
       "      <td>-0.014</td>\n",
       "      <td>0.119</td>\n",
       "      <td>Genuine</td>\n",
       "    </tr>\n",
       "  </tbody>\n",
       "</table>\n",
       "<p>5 rows × 33 columns</p>\n",
       "</div>"
      ],
      "text/plain": [
       "     User  H.period  DD.period.t  UD.period.t    H.t  DD.t.i  UD.t.i    H.i  \\\n",
       "0  Nikhil     0.119        0.272        0.153  0.103   0.208   0.105  0.103   \n",
       "1  Nikhil     0.119        0.272        0.153  0.103   0.216   0.113  0.103   \n",
       "2  Nikhil     0.127        0.352        0.225  0.143   0.240   0.097  0.143   \n",
       "3  Nikhil     0.122        0.315        0.193  0.127   0.200   0.073  0.111   \n",
       "4  Nikhil     0.143        0.232        0.089  0.119   0.208   0.089  0.127   \n",
       "\n",
       "   DD.i.e  UD.i.e  ...  DD.a.n  UD.a.n    H.n  DD.n.l  UD.n.l    H.l  \\\n",
       "0   0.288   0.185  ...   0.328   0.225  0.135   0.264   0.129  0.111   \n",
       "1   0.287   0.184  ...   0.312   0.209  0.151   0.272   0.121  0.110   \n",
       "2   0.344   0.201  ...   0.297   0.154  0.150   0.263   0.113  0.127   \n",
       "3   0.400   0.289  ...   0.200   0.089  0.143   0.240   0.097  0.159   \n",
       "4   0.264   0.137  ...   0.184   0.041  0.151   0.224   0.073  0.206   \n",
       "\n",
       "   DD.l.Return  UD.l.Return  H.Return   Target  \n",
       "0        0.311        0.200     0.112  Genuine  \n",
       "1        0.304        0.194     0.151  Genuine  \n",
       "2        0.304        0.177     0.127  Genuine  \n",
       "3        0.176        0.017     0.087  Genuine  \n",
       "4        0.192       -0.014     0.119  Genuine  \n",
       "\n",
       "[5 rows x 33 columns]"
      ]
     },
     "execution_count": 6,
     "metadata": {},
     "output_type": "execute_result"
    }
   ],
   "source": [
    "data = pd.read_csv(\"C:\\\\Users\\\\Gaurav\\\\Desktop\\\\p3\\\\Data\\\\KeystrokeData.csv\")\n",
    "data.head()"
   ]
  },
  {
   "cell_type": "code",
   "execution_count": 7,
   "metadata": {},
   "outputs": [
    {
     "data": {
      "text/plain": [
       "Index(['User', 'H.period', 'DD.period.t', 'UD.period.t', 'H.t', 'DD.t.i',\n",
       "       'UD.t.i', 'H.i', 'DD.i.e', 'UD.i.e', 'H.e', 'DD.e.five', 'UD.e.five',\n",
       "       'H.five', 'DD.five.Shift.r', 'UD.five.Shift.r', 'H.Shift.r',\n",
       "       'DD.Shift.r.o', 'UD.Shift.r.o', 'H.o', 'DD.o.a', 'UD.o.a', 'H.a',\n",
       "       'DD.a.n', 'UD.a.n', 'H.n', 'DD.n.l', 'UD.n.l', 'H.l', 'DD.l.Return',\n",
       "       'UD.l.Return', 'H.Return', 'Target'],\n",
       "      dtype='object')"
      ]
     },
     "execution_count": 7,
     "metadata": {},
     "output_type": "execute_result"
    }
   ],
   "source": [
    "data.columns"
   ]
  },
  {
   "cell_type": "code",
   "execution_count": 8,
   "metadata": {},
   "outputs": [
    {
     "name": "stdout",
     "output_type": "stream",
     "text": [
      "<class 'pandas.core.frame.DataFrame'>\n",
      "RangeIndex: 1422 entries, 0 to 1421\n",
      "Data columns (total 33 columns):\n",
      " #   Column           Non-Null Count  Dtype  \n",
      "---  ------           --------------  -----  \n",
      " 0   User             1422 non-null   object \n",
      " 1   H.period         1422 non-null   float64\n",
      " 2   DD.period.t      1422 non-null   float64\n",
      " 3   UD.period.t      1422 non-null   float64\n",
      " 4   H.t              1422 non-null   float64\n",
      " 5   DD.t.i           1422 non-null   float64\n",
      " 6   UD.t.i           1422 non-null   float64\n",
      " 7   H.i              1422 non-null   float64\n",
      " 8   DD.i.e           1422 non-null   float64\n",
      " 9   UD.i.e           1422 non-null   float64\n",
      " 10  H.e              1422 non-null   float64\n",
      " 11  DD.e.five        1422 non-null   float64\n",
      " 12  UD.e.five        1422 non-null   float64\n",
      " 13  H.five           1422 non-null   float64\n",
      " 14  DD.five.Shift.r  1422 non-null   float64\n",
      " 15  UD.five.Shift.r  1422 non-null   float64\n",
      " 16  H.Shift.r        1422 non-null   float64\n",
      " 17  DD.Shift.r.o     1422 non-null   float64\n",
      " 18  UD.Shift.r.o     1422 non-null   float64\n",
      " 19  H.o              1422 non-null   float64\n",
      " 20  DD.o.a           1422 non-null   float64\n",
      " 21  UD.o.a           1422 non-null   float64\n",
      " 22  H.a              1422 non-null   float64\n",
      " 23  DD.a.n           1422 non-null   float64\n",
      " 24  UD.a.n           1422 non-null   float64\n",
      " 25  H.n              1422 non-null   float64\n",
      " 26  DD.n.l           1422 non-null   float64\n",
      " 27  UD.n.l           1422 non-null   float64\n",
      " 28  H.l              1422 non-null   float64\n",
      " 29  DD.l.Return      1422 non-null   float64\n",
      " 30  UD.l.Return      1422 non-null   float64\n",
      " 31  H.Return         1422 non-null   float64\n",
      " 32  Target           1422 non-null   object \n",
      "dtypes: float64(31), object(2)\n",
      "memory usage: 366.7+ KB\n"
     ]
    }
   ],
   "source": [
    "data.info()"
   ]
  },
  {
   "cell_type": "code",
   "execution_count": 9,
   "metadata": {},
   "outputs": [
    {
     "data": {
      "text/plain": [
       "User\n",
       "Nikhil      710\n",
       "Deepti      225\n",
       "Huy         200\n",
       "Shridhar     50\n",
       "Vikram       38\n",
       "Vishu        33\n",
       "Tarang       33\n",
       "Sushmit      25\n",
       "Rohan        25\n",
       "Abhishek     24\n",
       "Tejas C      23\n",
       "Tejas S      22\n",
       "Rutvik       14\n",
       "Name: count, dtype: int64"
      ]
     },
     "execution_count": 9,
     "metadata": {},
     "output_type": "execute_result"
    }
   ],
   "source": [
    "data['User'].value_counts()"
   ]
  },
  {
   "cell_type": "code",
   "execution_count": 10,
   "metadata": {},
   "outputs": [
    {
     "data": {
      "text/plain": [
       "Target\n",
       "Imposter    712\n",
       "Genuine     710\n",
       "Name: count, dtype: int64"
      ]
     },
     "execution_count": 10,
     "metadata": {},
     "output_type": "execute_result"
    }
   ],
   "source": [
    "data['Target'].value_counts()"
   ]
  },
  {
   "cell_type": "code",
   "execution_count": 11,
   "metadata": {},
   "outputs": [
    {
     "data": {
      "text/plain": [
       "<Axes: xlabel='Target', ylabel='count'>"
      ]
     },
     "execution_count": 11,
     "metadata": {},
     "output_type": "execute_result"
    },
    {
     "data": {
      "image/png": "[encoded data removed]",
      "text/plain": [
       "<Figure size 640x480 with 1 Axes>"
      ]
     },
     "metadata": {},
     "output_type": "display_data"
    }
   ],
   "source": [
    "sns.countplot(x='Target',data=data,palette='RdBu_r')"
   ]
  },
  {
   "cell_type": "code",
   "execution_count": 12,
   "metadata": {},
   "outputs": [],
   "source": [
    "features = list(data.columns[1:32])\n",
    "X = data[features]\n",
    "y = data['Target']\n",
    "train, test = train_test_split(data, test_size = 0.2)\n",
    "X_train = train[features]\n",
    "y_train = train['Target']\n",
    "X_test = test[features]\n",
    "y_test = test['Target']"
   ]
  },
  {
   "cell_type": "code",
   "execution_count": 13,
   "metadata": {},
   "outputs": [
    {
     "name": "stdout",
     "output_type": "stream",
     "text": [
      "F1 Score:  0.9929893236554197\n",
      "Accuracy Score:  0.9929824561403509\n"
     ]
    }
   ],
   "source": [
    "#Ensemble Random Forest Classifier\n",
    "rf_classifier = RandomForestClassifier(n_estimators=100, random_state = 42)\n",
    "rf_classifier.fit(X_train,y_train)\n",
    "pred = rf_classifier.predict(X_test)\n",
    "print(\"F1 Score: \", metrics.f1_score(y_test,pred, average='weighted'))\n",
    "print(\"Accuracy Score: \", accuracy_score(y_test,pred))"
   ]
  },
  {
   "cell_type": "code",
   "execution_count": 14,
   "metadata": {},
   "outputs": [
    {
     "name": "stdout",
     "output_type": "stream",
     "text": [
      "[np.float64(0.9824812089762391), np.float64(0.9929893236554197), np.float64(0.9929893236554197), np.float64(0.9929893236554197), np.float64(0.9929893236554197), np.float64(0.9894887253857435), np.float64(0.9894887253857435), np.float64(0.9894887253857435)]\n"
     ]
    },
    {
     "data": {
      "image/png": "[encoded data removed]",
      "text/plain": [
       "<Figure size 640x480 with 1 Axes>"
      ]
     },
     "metadata": {},
     "output_type": "display_data"
    }
   ],
   "source": [
    "#Ensemble Random Forest Classifier Fine Tunning\n",
    "estimators = [5,10,15,20,30,35,40,48]\n",
    "f1_scores = []\n",
    "for e in estimators:\n",
    "    rf_classifier = RandomForestClassifier(n_estimators=e, random_state = 42)\n",
    "    rf_classifier.fit(X_train,y_train)\n",
    "    pred = rf_classifier.predict(X_test)\n",
    "    f1_scores.append(f1_score(y_test,pred,average='weighted'))\n",
    "    \n",
    "plt.plot(estimators,f1_scores) \n",
    "print(f1_scores)"
   ]
  },
  {
   "cell_type": "code",
   "execution_count": 15,
   "metadata": {},
   "outputs": [
    {
     "name": "stdout",
     "output_type": "stream",
     "text": [
      "F1 Score:  0.9894887253857435\n",
      "Accuracy Score:  0.9894736842105263\n",
      "[[160   3]\n",
      " [  0 122]]\n"
     ]
    },
    {
     "data": {
      "image/png": "[encoded data removed]",
      "text/plain": [
       "<Figure size 640x480 with 1 Axes>"
      ]
     },
     "metadata": {},
     "output_type": "display_data"
    }
   ],
   "source": [
    "# Try with Different Models\n",
    "from sklearn.linear_model import LogisticRegression\n",
    "from sklearn.tree import DecisionTreeClassifier\n",
    "from sklearn.svm import SVC\n",
    "from sklearn.ensemble import VotingClassifier\n",
    "# create the sub models\n",
    "estimators = []\n",
    "model1 = KNeighborsClassifier(n_neighbors=5)\n",
    "estimators.append(('Knn', model1))\n",
    "model2 = RandomForestClassifier(n_estimators=100, max_features=30)\n",
    "estimators.append(('RandomForest', model2))\n",
    "model3 = ExtraTreesClassifier(n_estimators=100, max_features=30)\n",
    "estimators.append(('ExtraTree', model3))\n",
    "# create the ensemble model\n",
    "ensemble = VotingClassifier(estimators)\n",
    "ensemble.fit(X_train, y_train)\n",
    "pred = ensemble.predict(X_test)\n",
    "print(\"F1 Score: \", metrics.f1_score(y_test,pred, average='weighted'))\n",
    "print(\"Accuracy Score: \", accuracy_score(y_test,pred))\n",
    "cm = confusion_matrix(y_test,pred)\n",
    "print(cm)\n",
    "plotConfusion(cm)"
   ]
  },
  {
   "cell_type": "code",
   "execution_count": 16,
   "metadata": {},
   "outputs": [
    {
     "name": "stdout",
     "output_type": "stream",
     "text": [
      "Optimal number of features : 22\n",
      "Best features : Index(['H.period', 'DD.period.t', 'UD.period.t', 'DD.t.i', 'UD.t.i', 'H.i',\n",
      "       'DD.i.e', 'H.e', 'UD.e.five', 'DD.five.Shift.r', 'UD.five.Shift.r',\n",
      "       'H.Shift.r', 'DD.Shift.r.o', 'UD.Shift.r.o', 'DD.o.a', 'UD.o.a', 'H.a',\n",
      "       'H.n', 'H.l', 'DD.l.Return', 'UD.l.Return', 'H.Return'],\n",
      "      dtype='object')\n"
     ]
    }
   ],
   "source": [
    "\n",
    "clf_rf_4 = RandomForestClassifier() \n",
    "rfecv = RFECV(estimator=clf_rf_4, step=1, cv=10,scoring='accuracy')   #5-fold cross-validation\n",
    "rfecv = rfecv.fit(X, y)\n",
    "\n",
    "print('Optimal number of features :', rfecv.n_features_)\n",
    "print('Best features :', X.columns[rfecv.support_])"
   ]
  },
  {
   "cell_type": "code",
   "execution_count": 17,
   "metadata": {},
   "outputs": [],
   "source": [
    "st  = \"0.122,0.267,0.145,0.143,0.2,0.057,0.135,0.36,0.225,0.15,1.6,1.45,0.231,0.8,0.569,0.335,0.224,-0.111,0.167,0.247,0.08,0.127,0.232,0.105,0.168,0.312,0.144,0.28,0.2,-0.08,0.128\"\n",
    "li = list(st.split(','))\n"
   ]
  },
  {
   "cell_type": "code",
   "execution_count": 18,
   "metadata": {},
   "outputs": [],
   "source": [
    "ar = np.array(li)\n",
    "arr = ar.reshape(1,31)"
   ]
  },
  {
   "cell_type": "code",
   "execution_count": 19,
   "metadata": {},
   "outputs": [
    {
     "data": {
      "text/plain": [
       "(1, 31)"
      ]
     },
     "execution_count": 19,
     "metadata": {},
     "output_type": "execute_result"
    }
   ],
   "source": [
    "arr.shape"
   ]
  },
  {
   "cell_type": "code",
   "execution_count": 20,
   "metadata": {},
   "outputs": [
    {
     "data": {
      "text/plain": [
       "'Genuine'"
      ]
     },
     "execution_count": 20,
     "metadata": {},
     "output_type": "execute_result"
    }
   ],
   "source": [
    "ans = rfecv.predict(arr)\n",
    "ans[0]"
   ]
  }
 ],
 "metadata": {
  "kernelspec": {
   "display_name": "Python 3",
   "language": "python",
   "name": "python3"
  },
  "language_info": {
   "codemirror_mode": {
    "name": "ipython",
    "version": 3
   },
   "file_extension": ".py",
   "mimetype": "text/x-python",
   "name": "python",
   "nbconvert_exporter": "python",
   "pygments_lexer": "ipython3",
   "version": "3.12.4"
  }
 },
 "nbformat": 4,
 "nbformat_minor": 2
}
